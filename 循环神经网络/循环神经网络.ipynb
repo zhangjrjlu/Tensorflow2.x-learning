{
 "cells": [
  {
   "cell_type": "markdown",
   "metadata": {
    "collapsed": true
   },
   "source": [
    "# 循环神经网络\n",
    "\n",
    "## 序列表示方法\n",
    "\n",
    "### Embedding层"
   ]
  },
  {
   "cell_type": "markdown",
   "metadata": {},
   "source": [
    "Embedding 层负责把单词编码为某个词向量$v$， 它接受的是采用数字编码的单词编号$i$，如2表示“I”， 3表示“me”等，系统总单词数量记为$N_{vocab}$， 输出长度为$n$的向量$v$：$$v=f_{\\theta}(i|N_{vocab}, n)$$"
   ]
  },
  {
   "cell_type": "code",
   "execution_count": 1,
   "metadata": {},
   "outputs": [
    {
     "data": {
      "text/plain": [
       "<tf.Tensor: id=19, shape=(10, 4), dtype=float32, numpy=\n",
       "array([[ 0.02974591, -0.03443984, -0.02403122, -0.02153288],\n",
       "       [-0.03018601,  0.03954509, -0.02528677,  0.03129846],\n",
       "       [-0.01986039, -0.03339057,  0.03154424, -0.0137913 ],\n",
       "       [-0.0204801 ,  0.00376071,  0.00240863,  0.02820292],\n",
       "       [ 0.01496815,  0.04902376, -0.00579251, -0.01775237],\n",
       "       [ 0.00454669, -0.04509263, -0.00747275,  0.03134331],\n",
       "       [-0.00305223, -0.01019449, -0.02831918, -0.01832809],\n",
       "       [-0.01227068,  0.0409546 , -0.01069511, -0.04826144],\n",
       "       [-0.01523788, -0.02214501, -0.0169457 , -0.00288089],\n",
       "       [-0.04996878,  0.00628467, -0.04327526, -0.04943682]],\n",
       "      dtype=float32)>"
      ]
     },
     "execution_count": 1,
     "metadata": {},
     "output_type": "execute_result"
    }
   ],
   "source": [
    "import tensorflow as tf\n",
    "from tensorflow.keras import layers\n",
    "\n",
    "# 生成 10 个单词的数字编码\n",
    "x = tf.range(10) \n",
    "# 打散\n",
    "x = tf.random.shuffle(x) \n",
    "# 创建共 10 个单词，每个单词用长度为 4 的向量表示的层\n",
    "net = layers.Embedding(10, 4)\n",
    "# 获取词向量\n",
    "out = net(x) \n",
    "out"
   ]
  },
  {
   "cell_type": "code",
   "execution_count": 2,
   "metadata": {},
   "outputs": [
    {
     "data": {
      "text/plain": [
       "<tf.Variable 'embedding/embeddings:0' shape=(10, 4) dtype=float32, numpy=\n",
       "array([[-0.00305223, -0.01019449, -0.02831918, -0.01832809],\n",
       "       [-0.0204801 ,  0.00376071,  0.00240863,  0.02820292],\n",
       "       [-0.01227068,  0.0409546 , -0.01069511, -0.04826144],\n",
       "       [ 0.01496815,  0.04902376, -0.00579251, -0.01775237],\n",
       "       [-0.04996878,  0.00628467, -0.04327526, -0.04943682],\n",
       "       [-0.01986039, -0.03339057,  0.03154424, -0.0137913 ],\n",
       "       [ 0.00454669, -0.04509263, -0.00747275,  0.03134331],\n",
       "       [-0.03018601,  0.03954509, -0.02528677,  0.03129846],\n",
       "       [-0.01523788, -0.02214501, -0.0169457 , -0.00288089],\n",
       "       [ 0.02974591, -0.03443984, -0.02403122, -0.02153288]],\n",
       "      dtype=float32)>"
      ]
     },
     "execution_count": 2,
     "metadata": {},
     "output_type": "execute_result"
    }
   ],
   "source": [
    " net.embeddings"
   ]
  },
  {
   "cell_type": "code",
   "execution_count": 3,
   "metadata": {},
   "outputs": [
    {
     "data": {
      "text/plain": [
       "True"
      ]
     },
     "execution_count": 3,
     "metadata": {},
     "output_type": "execute_result"
    }
   ],
   "source": [
    "# 查看 net.embeddings 张量的可优化属性为 True，即可以通过梯度下降算法优化\n",
    "net.embeddings.trainable"
   ]
  },
  {
   "cell_type": "markdown",
   "metadata": {},
   "source": [
    "## 循环神经网络\n",
    "\n",
    "&emsp;&emsp;网络结构在时间戳上折叠， 网络循环接受序列的每个特征向量$x_t$，并刷新内部状态向量$h_t$，同时形成输出$o_t$。对于这种网络结构，我们把它叫做循环网络结构(Recurrent Neural Network， 简称 RNN)。  \n",
    "&emsp;&emsp;如果使用张量$W_{xh}$、$W_{hh}$和偏置$b$来参数化$f_\\theta$网络，并按照$$h_t=\\sigma(W_{xh}x_t+W_{hh}h_{t-1}+b)$$方式更新内存状态，我们把这种网络叫做基本的循环神经网络"
   ]
  },
  {
   "cell_type": "markdown",
   "metadata": {},
   "source": [
    "## RNN层使用方法\n",
    "\n",
    "在 TensorFlow 中，可以通过 layers.SimpleRNNCell 来完成$\\sigma(W_{xh}x_t+W_{hh}h_{t-1}+b)$计算。"
   ]
  },
  {
   "cell_type": "markdown",
   "metadata": {},
   "source": [
    "###  SimpleRNNCell"
   ]
  },
  {
   "cell_type": "code",
   "execution_count": 4,
   "metadata": {},
   "outputs": [
    {
     "data": {
      "text/plain": [
       "[<tf.Variable 'kernel:0' shape=(4, 3) dtype=float32, numpy=\n",
       " array([[ 0.4115522 ,  0.22107458, -0.88970715],\n",
       "        [-0.04243898, -0.02677888,  0.17191768],\n",
       "        [ 0.6828035 ,  0.90170157, -0.56374496],\n",
       "        [ 0.8897619 ,  0.6086905 ,  0.06193233]], dtype=float32)>,\n",
       " <tf.Variable 'recurrent_kernel:0' shape=(3, 3) dtype=float32, numpy=\n",
       " array([[-0.47960746,  0.8641869 , -0.15217681],\n",
       "        [ 0.56623876,  0.43728444,  0.69868165],\n",
       "        [ 0.670336  ,  0.2489245 , -0.699061  ]], dtype=float32)>,\n",
       " <tf.Variable 'bias:0' shape=(3,) dtype=float32, numpy=array([0., 0., 0.], dtype=float32)>]"
      ]
     },
     "execution_count": 4,
     "metadata": {},
     "output_type": "execute_result"
    }
   ],
   "source": [
    "# 创建 RNN Cell，内存向量长度为 3\n",
    "cell = layers.SimpleRNNCell(3) \n",
    "# 输出特征长度 n=4\n",
    "cell.build(input_shape=(None,4)) \n",
    "# 打印 wxh, whh, b 张量\n",
    "cell.trainable_variables "
   ]
  },
  {
   "cell_type": "code",
   "execution_count": 5,
   "metadata": {},
   "outputs": [
    {
     "name": "stdout",
     "output_type": "stream",
     "text": [
      "(4, 64) (4, 64)\n"
     ]
    }
   ],
   "source": [
    "# 初始化状态向量，用列表包裹，统一格式\n",
    "h0 = [tf.zeros([4, 64])]\n",
    "# 生成输入张量， 4 个 80 单词的句子\n",
    "x = tf.random.normal([4, 80, 100]) \n",
    "# 所有句子的第 1 个单词\n",
    "xt = x[:,0,:] \n",
    "# 构建输入特征 n=100,序列长度 s=80,状态长度=64 的 Cell\n",
    "cell = layers.SimpleRNNCell(64)\n",
    "# 前向计算\n",
    "out, h1 = cell(xt, h0) \n",
    "print(out.shape, h1[0].shape)"
   ]
  },
  {
   "cell_type": "code",
   "execution_count": 6,
   "metadata": {},
   "outputs": [
    {
     "name": "stdout",
     "output_type": "stream",
     "text": [
      "492815752 492815752\n"
     ]
    }
   ],
   "source": [
    "print(id(out), id(h1[0]))"
   ]
  },
  {
   "cell_type": "code",
   "execution_count": 7,
   "metadata": {},
   "outputs": [],
   "source": [
    "# h 保存每个时间戳上的状态向量列表\n",
    "h = h0 \n",
    "# 在序列长度的维度解开输入，得到 xt:[b,n]\n",
    "for xt in tf.unstack(x, axis=1):\n",
    "    # 前向计算,out 和 h 均被覆盖\n",
    "    out, h = cell(xt, h) \n",
    "# 最终输出可以聚合每个时间戳上的输出，也可以只取最后时间戳的输出\n",
    "out = out"
   ]
  },
  {
   "cell_type": "markdown",
   "metadata": {},
   "source": [
    "### 多层 SimpleRNNCell 网络"
   ]
  },
  {
   "cell_type": "code",
   "execution_count": 8,
   "metadata": {},
   "outputs": [],
   "source": [
    "x = tf.random.normal([4,80,100])\n",
    "# 取第一个时间戳的输入 x0\n",
    "xt = x[:,0,:] \n",
    "# 构建 2 个 Cell,先 cell0,后 cell1，内存状态向量长度都为 64\n",
    "cell0 = layers.SimpleRNNCell(64)\n",
    "cell1 = layers.SimpleRNNCell(64)\n",
    "# cell0 的初始状态向量\n",
    "h0 = [tf.zeros([4,64])] \n",
    "# cell1 的初始状态向量\n",
    "h1 = [tf.zeros([4,64])] "
   ]
  },
  {
   "cell_type": "markdown",
   "metadata": {},
   "source": [
    "在时间轴上面循环计算多次来实现整个网络的前向运算，每个时间戳上的输入 xt 首先通过第一层，得到输出 out0，再通过第二层，得到输出 out1"
   ]
  },
  {
   "cell_type": "code",
   "execution_count": 9,
   "metadata": {},
   "outputs": [],
   "source": [
    "for xt in tf.unstack(x, axis=1):\n",
    "    # xt 作为输入，输出为 out0\n",
    "    out0, h0 = cell0(xt, h0)\n",
    "    # 上一个 cell 的输出 out0 作为本 cell 的输入\n",
    "    out1, h1 = cell1(out0, h1)"
   ]
  },
  {
   "cell_type": "code",
   "execution_count": 10,
   "metadata": {},
   "outputs": [],
   "source": [
    "# 保存上一层的所有时间戳上面的输出\n",
    "middle_sequences = []\n",
    "# 计算第一层的所有时间戳上的输出，并保存\n",
    "for xt in tf.unstack(x, axis=1):\n",
    "    out0, h0 = cell0(xt, h0)\n",
    "    middle_sequences.append(out0)\n",
    "# 计算第二层的所有时间戳上的输出\n",
    "# 如果不是末层，需要保存所有时间戳上面的输出\n",
    "for xt in middle_sequences:\n",
    "    out1, h1 = cell1(xt, h1)"
   ]
  },
  {
   "cell_type": "markdown",
   "metadata": {},
   "source": [
    "### SimpleRNN 层\n",
    "\n",
    "单层循环神经网络的前向运算"
   ]
  },
  {
   "cell_type": "code",
   "execution_count": 11,
   "metadata": {},
   "outputs": [
    {
     "data": {
      "text/plain": [
       "TensorShape([4, 64])"
      ]
     },
     "execution_count": 11,
     "metadata": {},
     "output_type": "execute_result"
    }
   ],
   "source": [
    "# 创建状态向量长度为 64 的 SimpleRNN 层\n",
    "layer = layers.SimpleRNN(64) \n",
    "x = tf.random.normal([4, 80, 100])\n",
    "# 和普通卷积网络一样，一行代码即可获得输出\n",
    "out = layer(x) \n",
    "out.shape"
   ]
  },
  {
   "cell_type": "code",
   "execution_count": 12,
   "metadata": {
    "scrolled": true
   },
   "outputs": [
    {
     "data": {
      "text/plain": [
       "TensorShape([4, 80, 64])"
      ]
     },
     "execution_count": 12,
     "metadata": {},
     "output_type": "execute_result"
    }
   ],
   "source": [
    "# 创建 RNN 层时，设置返回所有时间戳上的输出\n",
    "layer = layers.SimpleRNN(64,return_sequences=True)\n",
    "# 前向计算\n",
    "out = layer(x) \n",
    "# 输出，自动进行了 concat 操作\n",
    "out.shape"
   ]
  },
  {
   "cell_type": "code",
   "execution_count": 13,
   "metadata": {},
   "outputs": [
    {
     "data": {
      "text/plain": [
       "TensorShape([4, 64])"
      ]
     },
     "execution_count": 13,
     "metadata": {},
     "output_type": "execute_result"
    }
   ],
   "source": [
    "from tensorflow import keras\n",
    "net = keras.Sequential([ # 构建 2 层 RNN 网络\n",
    "# 除最末层外，都需要返回所有时间戳的输出，用作下一层的输入\n",
    "layers.SimpleRNN(64, return_sequences=True),\n",
    "layers.SimpleRNN(64),\n",
    "])\n",
    "out = net(x) # 前向计算\n",
    "out.shape"
   ]
  },
  {
   "cell_type": "markdown",
   "metadata": {},
   "source": [
    "## 梯度弥散和梯度爆炸"
   ]
  },
  {
   "cell_type": "code",
   "execution_count": 14,
   "metadata": {},
   "outputs": [
    {
     "data": {
      "text/plain": [
       "<tf.Tensor: id=7857, shape=(2,), dtype=float32, numpy=array([0., 2.], dtype=float32)>"
      ]
     },
     "execution_count": 14,
     "metadata": {},
     "output_type": "execute_result"
    }
   ],
   "source": [
    "# 任意创建某矩阵\n",
    "W = tf.ones([2,2]) \n",
    "# 计算矩阵的特征值\n",
    "eigenvalues = tf.linalg.eigh(W)[0] \n",
    "eigenvalues"
   ]
  },
  {
   "cell_type": "code",
   "execution_count": 15,
   "metadata": {},
   "outputs": [
    {
     "data": {
      "text/plain": [
       "[2.0, 4.0, 8.0, 16.0, 32.0, 64.0, 128.0, 256.0, 512.0, 1024.0, 2048.0]"
      ]
     },
     "execution_count": 15,
     "metadata": {},
     "output_type": "execute_result"
    }
   ],
   "source": [
    "val = [W]\n",
    "for i in range(10): # 矩阵相乘 n 次方\n",
    "    val.append([val[-1]@W])\n",
    "# 计算 L2 范数\n",
    "norm = list(map(lambda x:tf.norm(x).numpy(),val))\n",
    "norm"
   ]
  },
  {
   "cell_type": "code",
   "execution_count": 16,
   "metadata": {},
   "outputs": [
    {
     "data": {
      "image/png": "[encoded data removed]",
      "text/plain": [
       "<Figure size 432x288 with 1 Axes>"
      ]
     },
     "metadata": {
      "needs_background": "light"
     },
     "output_type": "display_data"
    }
   ],
   "source": [
    "import matplotlib.pyplot as plt\n",
    "\n",
    "x = range(11)\n",
    "\n",
    "plt.plot(x, norm, color='blue')\n",
    "plt.xlabel('n times')\n",
    "plt.ylabel('L2-norm')\n",
    "plt.show()"
   ]
  },
  {
   "cell_type": "markdown",
   "metadata": {},
   "source": [
    "考虑最大特征值小于1时的情况"
   ]
  },
  {
   "cell_type": "code",
   "execution_count": 17,
   "metadata": {},
   "outputs": [
    {
     "data": {
      "text/plain": [
       "<tf.Tensor: id=7948, shape=(2,), dtype=float32, numpy=array([0. , 0.8], dtype=float32)>"
      ]
     },
     "execution_count": 17,
     "metadata": {},
     "output_type": "execute_result"
    }
   ],
   "source": [
    "# 任意创建某矩阵\n",
    "W = tf.ones([2,2])*0.4 \n",
    "# 计算特征值\n",
    "eigenvalues = tf.linalg.eigh(W)[0] \n",
    "eigenvalues"
   ]
  },
  {
   "cell_type": "code",
   "execution_count": 18,
   "metadata": {},
   "outputs": [
    {
     "data": {
      "image/png": "[encoded data removed]",
      "text/plain": [
       "<Figure size 432x288 with 1 Axes>"
      ]
     },
     "metadata": {
      "needs_background": "light"
     },
     "output_type": "display_data"
    }
   ],
   "source": [
    "val = [W]\n",
    "for i in range(10):\n",
    "    val.append([val[-1]@W])\n",
    "# 计算 L2 范数\n",
    "norm = list(map(lambda x:tf.norm(x).numpy(),val))\n",
    "plt.plot(range(1,12),norm)\n",
    "plt.xlabel('n times')\n",
    "plt.ylabel('L2-norm')\n",
    "\n",
    "plt.show()"
   ]
  },
  {
   "cell_type": "markdown",
   "metadata": {},
   "source": [
    "## 梯度裁剪"
   ]
  },
  {
   "cell_type": "markdown",
   "metadata": {},
   "source": [
    "1. 直接对张量的数值进行限幅， 使得张量$W$的所有元素$w_{ij} \\in [min, max]$"
   ]
  },
  {
   "cell_type": "code",
   "execution_count": 19,
   "metadata": {},
   "outputs": [
    {
     "data": {
      "text/plain": [
       "<tf.Tensor: id=8044, shape=(2, 2), dtype=float32, numpy=\n",
       "array([[0.58690715, 0.6       ],\n",
       "       [0.6       , 0.6       ]], dtype=float32)>"
      ]
     },
     "execution_count": 19,
     "metadata": {},
     "output_type": "execute_result"
    }
   ],
   "source": [
    "a=tf.random.uniform([2,2])\n",
    "# 梯度值裁剪\n",
    "tf.clip_by_value(a,0.4,0.6) "
   ]
  },
  {
   "cell_type": "markdown",
   "metadata": {},
   "source": [
    "2. 通过限制梯度张量$W$的范数来实现梯度裁剪"
   ]
  },
  {
   "cell_type": "code",
   "execution_count": 20,
   "metadata": {},
   "outputs": [
    {
     "data": {
      "text/plain": [
       "(<tf.Tensor: id=8075, shape=(), dtype=float32, numpy=6.7737527>,\n",
       " <tf.Tensor: id=8080, shape=(), dtype=float32, numpy=5.0000005>)"
      ]
     },
     "execution_count": 20,
     "metadata": {},
     "output_type": "execute_result"
    }
   ],
   "source": [
    "a=tf.random.uniform([2,2]) * 5\n",
    "# 按范数方式裁剪\n",
    "b = tf.clip_by_norm(a, 5)\n",
    "# 裁剪前和裁剪后的张量范数\n",
    "tf.norm(a),tf.norm(b)"
   ]
  },
  {
   "cell_type": "markdown",
   "metadata": {},
   "source": [
    "3. 全局范数裁剪"
   ]
  },
  {
   "cell_type": "code",
   "execution_count": 21,
   "metadata": {},
   "outputs": [
    {
     "name": "stdout",
     "output_type": "stream",
     "text": [
      "tf.Tensor(3.5118904, shape=(), dtype=float32) tf.Tensor(1.9999998, shape=(), dtype=float32)\n"
     ]
    }
   ],
   "source": [
    "# 创建梯度张量 1\n",
    "w1=tf.random.normal([3,3]) \n",
    "# 创建梯度张量 2\n",
    "w2=tf.random.normal([3,3]) \n",
    "# 计算 global norm\n",
    "global_norm=tf.math.sqrt(tf.norm(w1)**2+tf.norm(w2)**2)\n",
    "# 根据 global norm 和 max norm=2 裁剪\n",
    "(ww1,ww2),global_norm=tf.clip_by_global_norm([w1,w2],2)\n",
    "# 计算裁剪后的张量组的 global norm\n",
    "global_norm2 = tf.math.sqrt(tf.norm(ww1)**2+tf.norm(ww2)**2)\n",
    "# 打印裁剪前的全局范数和裁剪后的全局范数\n",
    "print(global_norm, global_norm2)"
   ]
  },
  {
   "cell_type": "markdown",
   "metadata": {},
   "source": [
    "## LSTM 层使用方法\n",
    "\n",
    "### LSTMCell"
   ]
  },
  {
   "cell_type": "code",
   "execution_count": 22,
   "metadata": {},
   "outputs": [
    {
     "data": {
      "text/plain": [
       "(552212520, 552212520, 552240520)"
      ]
     },
     "execution_count": 22,
     "metadata": {},
     "output_type": "execute_result"
    }
   ],
   "source": [
    "x = tf.random.normal([2,80,100])\n",
    "# 得到一个时间戳的输入\n",
    "xt = x[:,0,:] \n",
    "cell = layers.LSTMCell(64) # 创建 LSTM Cell\n",
    "# 初始化状态和输出 List,[h,c]\n",
    "state = [tf.zeros([2,64]),tf.zeros([2,64])]\n",
    "out, state = cell(xt, state) # 前向计算\n",
    "# 查看返回元素的 id\n",
    "id(out),id(state[0]),id(state[1])"
   ]
  },
  {
   "cell_type": "code",
   "execution_count": 23,
   "metadata": {},
   "outputs": [],
   "source": [
    "# 在序列长度维度上解开，循环送入 LSTM Cell 单元\n",
    "for xt in tf.unstack(x, axis=1):\n",
    "    # 前向计算\n",
    "    out, state = cell(xt, state)"
   ]
  },
  {
   "cell_type": "markdown",
   "metadata": {},
   "source": [
    "### LSTM 层"
   ]
  },
  {
   "cell_type": "code",
   "execution_count": 24,
   "metadata": {},
   "outputs": [],
   "source": [
    "# 创建一层 LSTM 层，内存向量长度为 64\n",
    "layer = layers.LSTM(64)\n",
    "# 序列通过 LSTM 层，默认返回最后一个时间戳的输出 h\n",
    "out = layer(x)"
   ]
  },
  {
   "cell_type": "code",
   "execution_count": 25,
   "metadata": {},
   "outputs": [],
   "source": [
    "# 创建 LSTM 层时，设置返回每个时间戳上的输出\n",
    "layer = layers.LSTM(64, return_sequences=True)\n",
    "# 前向计算，每个时间戳上的输出自动进行了 concat，拼成一个张量\n",
    "out = layer(x)"
   ]
  },
  {
   "cell_type": "code",
   "execution_count": 26,
   "metadata": {
    "scrolled": true
   },
   "outputs": [
    {
     "data": {
      "text/plain": [
       "<tf.Tensor: id=10693, shape=(2, 64), dtype=float32, numpy=\n",
       "array([[-7.29653612e-02,  1.15865074e-01, -7.15253651e-02,\n",
       "         7.39371553e-02,  4.68634143e-02,  5.46397939e-02,\n",
       "         3.66614596e-03, -3.41411717e-02, -9.88797173e-02,\n",
       "        -7.74470195e-02,  9.54263564e-03,  6.62799105e-02,\n",
       "         5.46958186e-02, -9.72819999e-02, -5.92009760e-02,\n",
       "         8.12323615e-02, -2.34329626e-02, -7.07291812e-02,\n",
       "         2.66989227e-02,  4.51712869e-02,  1.57007724e-01,\n",
       "        -7.51742488e-03,  1.35744780e-01,  1.02491170e-01,\n",
       "         4.77755927e-02, -7.14057460e-02, -5.32417037e-02,\n",
       "         3.11367679e-03,  1.98544171e-02,  1.20310985e-01,\n",
       "        -3.45447473e-02,  9.80208740e-02, -2.00126737e-01,\n",
       "         3.35342549e-02,  1.09030381e-02, -8.74172971e-02,\n",
       "         1.21381782e-01, -1.21675864e-01, -4.28368524e-02,\n",
       "        -1.63171720e-03,  7.50030763e-03,  6.19905367e-02,\n",
       "         6.91571087e-02, -1.79095380e-02,  2.11950559e-02,\n",
       "        -2.99647055e-03,  2.53018010e-02, -1.27889946e-01,\n",
       "         2.90306136e-02,  2.04134416e-02, -5.84693067e-02,\n",
       "        -8.47572373e-05,  2.86764801e-02, -1.46667600e-01,\n",
       "         4.19261158e-02, -8.66340473e-02,  5.49870357e-02,\n",
       "        -1.69840395e-01,  9.46776941e-02, -7.93699250e-02,\n",
       "        -8.68466422e-02,  1.85655400e-01, -6.72442019e-02,\n",
       "        -3.39936800e-02],\n",
       "       [ 1.35182619e-01,  1.89286768e-01,  1.39465556e-01,\n",
       "        -1.31353527e-01, -5.33331931e-02,  1.66756541e-01,\n",
       "        -9.98248756e-02,  1.16001211e-01,  2.07160320e-02,\n",
       "         1.05367722e-02,  9.57108960e-02,  5.47952540e-02,\n",
       "         9.50262770e-02,  7.72577338e-03,  3.10489093e-03,\n",
       "        -1.58313308e-02, -4.08570543e-02,  8.74623656e-02,\n",
       "        -1.00237563e-01, -4.59164865e-02,  3.95013466e-02,\n",
       "        -9.21263173e-02, -6.73963130e-02,  3.45224701e-02,\n",
       "        -1.24158934e-01,  8.55000094e-02, -5.82238659e-02,\n",
       "        -9.40350741e-02,  7.63973547e-03, -2.28851154e-01,\n",
       "        -4.19710018e-02,  1.56359170e-02, -2.00016471e-03,\n",
       "        -7.04211891e-02, -1.29387090e-02, -1.37450963e-01,\n",
       "         6.81063533e-02, -1.01319902e-01, -5.00466265e-02,\n",
       "        -1.31414577e-01,  9.37328711e-02, -6.82587847e-02,\n",
       "         7.09251016e-02,  5.85846305e-02, -5.06423190e-02,\n",
       "        -9.98194739e-02,  1.12542873e-02,  1.20005630e-01,\n",
       "         1.95571512e-01,  8.41921270e-02,  3.75407264e-02,\n",
       "         7.91881159e-02,  5.79719506e-02, -1.26136616e-01,\n",
       "        -1.39808372e-01,  1.38167590e-01, -1.76716790e-01,\n",
       "        -5.94828129e-02, -9.41112265e-03,  4.15128320e-02,\n",
       "        -5.21374717e-02,  4.28842120e-02,  4.89364192e-02,\n",
       "         7.69282505e-02]], dtype=float32)>"
      ]
     },
     "execution_count": 26,
     "metadata": {},
     "output_type": "execute_result"
    }
   ],
   "source": [
    "# 和 CNN 网络一样， LSTM 也可以简单地层层堆叠\n",
    "net = keras.Sequential([\n",
    "    layers.LSTM(64, return_sequences=True), # 非末层需要返回所有时间戳输出\n",
    "    layers.LSTM(64)\n",
    "])\n",
    "# 一次通过网络模型，即可得到最末层、最后一个时间戳的输出\n",
    "out = net(x)\n",
    "out"
   ]
  },
  {
   "cell_type": "markdown",
   "metadata": {},
   "source": [
    "## GRU 使用方法"
   ]
  },
  {
   "cell_type": "code",
   "execution_count": 27,
   "metadata": {},
   "outputs": [
    {
     "data": {
      "text/plain": [
       "TensorShape([2, 64])"
      ]
     },
     "execution_count": 27,
     "metadata": {},
     "output_type": "execute_result"
    }
   ],
   "source": [
    "# 初始化状态向量， GRU 只有一个\n",
    "h = [tf.zeros([2,64])]\n",
    "# 新建 GRU Cell，向量长度为 64\n",
    "cell = layers.GRUCell(64) \n",
    "# 在时间戳维度上解开，循环通过 cell\n",
    "for xt in tf.unstack(x, axis=1):\n",
    "    out, h = cell(xt, h)\n",
    "# 输出形状\n",
    "out.shape"
   ]
  },
  {
   "cell_type": "markdown",
   "metadata": {},
   "source": [
    "通过 layers.GRU 类可以方便创建一层 GRU 网络层，通过 Sequential 容器可以堆叠多层 GRU 层的网络。"
   ]
  },
  {
   "cell_type": "code",
   "execution_count": 28,
   "metadata": {},
   "outputs": [],
   "source": [
    "net = keras.Sequential([\n",
    "    layers.GRU(64, return_sequences=True),\n",
    "    layers.GRU(64)\n",
    "])\n",
    "out = net(x)"
   ]
  }
 ],
 "metadata": {
  "kernelspec": {
   "display_name": "Python 3",
   "language": "python",
   "name": "python3"
  },
  "language_info": {
   "codemirror_mode": {
    "name": "ipython",
    "version": 3
   },
   "file_extension": ".py",
   "mimetype": "text/x-python",
   "name": "python",
   "nbconvert_exporter": "python",
   "pygments_lexer": "ipython3",
   "version": "3.7.6"
  },
  "toc": {
   "base_numbering": 1,
   "nav_menu": {},
   "number_sections": true,
   "sideBar": true,
   "skip_h1_title": true,
   "title_cell": "Table of Contents",
   "title_sidebar": "Contents",
   "toc_cell": false,
   "toc_position": {},
   "toc_section_display": true,
   "toc_window_display": false
  }
 },
 "nbformat": 4,
 "nbformat_minor": 1
}
