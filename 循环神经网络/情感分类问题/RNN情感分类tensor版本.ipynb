{
 "cells": [
  {
   "cell_type": "code",
   "execution_count": 1,
   "metadata": {},
   "outputs": [
    {
     "name": "stderr",
     "output_type": "stream",
     "text": [
      "D:\\Anaconda3\\envs\\tensorflow2.x\\lib\\site-packages\\tensorflow_core\\python\\keras\\datasets\\imdb.py:129: VisibleDeprecationWarning: Creating an ndarray from ragged nested sequences (which is a list-or-tuple of lists-or-tuples-or ndarrays with different lengths or shapes) is deprecated. If you meant to do this, you must specify 'dtype=object' when creating the ndarray\n",
      "  x_train, y_train = np.array(xs[:idx]), np.array(labels[:idx])\n"
     ]
    },
    {
     "name": "stdout",
     "output_type": "stream",
     "text": [
      "[1 0 0 1 0 0 1 0 1 0 1 0 0 0 0 0 1 1 0 1]\n"
     ]
    },
    {
     "name": "stderr",
     "output_type": "stream",
     "text": [
      "D:\\Anaconda3\\envs\\tensorflow2.x\\lib\\site-packages\\tensorflow_core\\python\\keras\\datasets\\imdb.py:130: VisibleDeprecationWarning: Creating an ndarray from ragged nested sequences (which is a list-or-tuple of lists-or-tuples-or ndarrays with different lengths or shapes) is deprecated. If you meant to do this, you must specify 'dtype=object' when creating the ndarray\n",
      "  x_test, y_test = np.array(xs[idx:]), np.array(labels[idx:])\n"
     ]
    }
   ],
   "source": [
    "import tensorflow as tf\n",
    "from tensorflow import keras\n",
    "from tensorflow.keras import layers, losses, optimizers, Sequential\n",
    "\n",
    "def load_dataset1(a):\n",
    "    (x_train, y_train), (x_test, y_test) = keras.datasets.imdb.load_data(num_words=a)\n",
    "    return y_train\n",
    "\n",
    "y = load_dataset1(10000)\n",
    "print(y[0:20])\n",
    "    \n",
    "#     x_train = keras.preprocessing.sequence.pad_sequences(x_train, b)\n",
    "#     x_test = keras.preprocessing.sequence.pad_sequences(x_test, b)\n",
    "#     \"\"\"\n",
    "#     keras只能够接收等长度的序列输入，因此.preprocessing.sequence.pad_sequences是将一个输入序列转化为一个长度相同的序列输入。\n",
    "#     keras.preprocessing.sequence.pad_sequences(sequences, maxlen=None,dtype='int32',padding='pre',truncating='pre', value=0.)\n",
    "#     sequences：浮点数或整数构成的两层嵌套列表\n",
    "#     maxlen：None或整数，为序列的最大长度。大于此长度的序列将被截短，小于此长度的序列将在后部填0.\n",
    "#     dtype：返回的numpy array的数据类型\n",
    "#     padding：‘pre’或‘post’，确定当需要补0时，在序列的起始还是结尾补`\n",
    "#     truncating：‘pre’或‘post’，确定当需要截断序列时，从起始还是结尾截断\n",
    "#     value：浮点数，此值将在填充时代替默认的填充值0\n",
    "#     \"\"\"\n",
    "#     db_train = tf.data.Dataset.from_tensor_slices((x_train, y_train))\n",
    "#     db_train = db_train.shuffle(1000).batch(batchsz, drop_remainder=True)   ####当最后一个batch不够batchsize的时候，使用drop_remainder来确定是否丢弃。\n",
    "#     db_test = tf.data.Dataset.from_tensor_slices((x_test, y_test))\n",
    "#     db_test = db_test.batch(batchsz, drop_remainder=True)\n",
    "#     return db_train, db_test\n",
    "\n",
    "def load_dataset(batchsz, total_words, max_review_len):\n",
    "    # 加载IMDB数据集，此处的数据采用数字编码，一个数字代表一个单词\n",
    "    (x_train, y_train), (x_test, y_test) = keras.datasets.imdb.load_data(num_words=total_words)\n",
    "    print(x_train.shape, len(x_train[0]), y_train.shape)\n",
    "    print(x_test.shape, len(x_test[0]), y_test.shape)\n",
    "\n",
    "    # x_train:[b, 80]\n",
    "    # x_test: [b, 80]\n",
    "    # 截断和填充句子，使得等长，此处长句子保留句子后面的部分，短句子在前面填充\n",
    "    x_train = keras.preprocessing.sequence.pad_sequences(x_train, maxlen=max_review_len)\n",
    "    x_test = keras.preprocessing.sequence.pad_sequences(x_test, maxlen=max_review_len)\n",
    "    # 构建数据集，打散，批量，并丢掉最后一个不够batchsz的batch\n",
    "    db_train = tf.data.Dataset.from_tensor_slices((x_train, y_train))\n",
    "    db_train = db_train.shuffle(1000).batch(batchsz, drop_remainder=True)\n",
    "    db_test = tf.data.Dataset.from_tensor_slices((x_test, y_test))\n",
    "    db_test = db_test.batch(batchsz, drop_remainder=True)\n",
    "    print('x_train shape:', x_train.shape, tf.reduce_max(y_train), tf.reduce_min(y_train))\n",
    "    print('x_test shape:', x_test.shape)\n",
    "    return db_train, db_test\n"
   ]
  },
  {
   "cell_type": "code",
   "execution_count": 2,
   "metadata": {},
   "outputs": [],
   "source": [
    "class RNNModel(keras.Model):\n",
    "    def __init__(self, units, batchsz, total_words, embedding_len, max_review_len):\n",
    "        super(RNNModel, self).__init__()\n",
    "        # [b, 64]，构建Cell初始化状态向量，重复使用\n",
    "        self.state0 = [tf.zeros([batchsz, units])]\n",
    "        self.state1 = [tf.zeros([batchsz, units])]\n",
    "        # 词向量编码 [b, 80] => [b, 80, 100]\n",
    "        self.embedding = layers.Embedding(total_words, embedding_len, input_length=max_review_len)\n",
    "        # 构建2个Cell\n",
    "        self.rnn_cell0 = layers.SimpleRNNCell(units, dropout=0.5)\n",
    "        self.rnn_cell1 = layers.SimpleRNNCell(units, dropout=0.5)\n",
    "        # 构建分类网络，用于将CELL的输出特征进行分类，2分类\n",
    "        # [b, 80, 100] => [b, 64] => [b, 1]\n",
    "        self.outlayer = Sequential([\n",
    "            layers.Dense(units),\n",
    "            layers.Dropout(rate=0.5),\n",
    "            layers.ReLU(),\n",
    "            layers.Dense(1)])\n",
    "\n",
    "    def call(self, inputs, training=None):\n",
    "        x = inputs  # [b, 80]\n",
    "        # embedding: [b, 80] => [b, 80, 100]\n",
    "        x = self.embedding(x)\n",
    "        # rnn cell compute,[b, 80, 100] => [b, 64]\n",
    "        state0 = self.state0\n",
    "        state1 = self.state1\n",
    "        for word in tf.unstack(x, axis=1):  # word: [b, 100]\n",
    "            out0, state0 = self.rnn_cell0(word, state0, training)\n",
    "            out1, state1 = self.rnn_cell1(out0, state1, training)\n",
    "        # 末层最后一个输出作为分类网络的输入: [b, 64] => [b, 1]\n",
    "        x = self.outlayer(out1, training)\n",
    "        # p(y is pos|x)\n",
    "        prob = tf.sigmoid(x)\n",
    "\n",
    "        return prob"
   ]
  },
  {
   "cell_type": "code",
   "execution_count": 3,
   "metadata": {},
   "outputs": [],
   "source": [
    "def main():\n",
    "    batchsz = 100  # 批量大小\n",
    "    total_words = 10000  # 词汇表大小N_vocab\n",
    "    embedding_len = 100  # 词向量特征长度f\n",
    "    max_review_len = 80  # 句子最大长度s，大于的句子部分将截断，小于的将填充\n",
    "\n",
    "    db_train, db_test = load_dataset(batchsz, total_words, max_review_len)\n",
    "\n",
    "    units = 64  # RNN状态向量长度f\n",
    "    epochs = 20  # 训练epochs\n",
    "\n",
    "    model = RNNModel(units, batchsz, total_words, embedding_len, max_review_len)\n",
    "    # 装配\n",
    "    model.compile(optimizer=optimizers.RMSprop(0.001),\n",
    "                  loss=losses.BinaryCrossentropy(),\n",
    "                  metrics=['accuracy'],\n",
    "                  experimental_run_tf_function=False)\n",
    "    # 训练和验证\n",
    "    model.fit(db_train, epochs=epochs, validation_data=db_test)\n",
    "    # 测试\n",
    "    model.evaluate(db_test)\n"
   ]
  },
  {
   "cell_type": "code",
   "execution_count": null,
   "metadata": {},
   "outputs": [
    {
     "name": "stdout",
     "output_type": "stream",
     "text": [
      "(25000,) 218 (25000,)\n",
      "(25000,) 68 (25000,)\n"
     ]
    }
   ],
   "source": [
    "if __name__ == '__main__':\n",
    "    main()"
   ]
  },
  {
   "cell_type": "code",
   "execution_count": null,
   "metadata": {},
   "outputs": [],
   "source": []
  }
 ],
 "metadata": {
  "kernelspec": {
   "display_name": "Python 3",
   "language": "python",
   "name": "python3"
  },
  "language_info": {
   "codemirror_mode": {
    "name": "ipython",
    "version": 3
   },
   "file_extension": ".py",
   "mimetype": "text/x-python",
   "name": "python",
   "nbconvert_exporter": "python",
   "pygments_lexer": "ipython3",
   "version": "3.7.6"
  }
 },
 "nbformat": 4,
 "nbformat_minor": 4
}
